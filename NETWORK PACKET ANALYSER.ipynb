{
 "cells": [
  {
   "cell_type": "code",
   "execution_count": null,
   "id": "40c62bdd",
   "metadata": {},
   "outputs": [],
   "source": [
    "from scapy.all import *\n",
    "\n",
    "# Function to process captured packets\n",
    "def process_packet(packet):\n",
    "    if packet.haslayer(IP):\n",
    "        ip_src = packet[IP].src\n",
    "        ip_dst = packet[IP].dst\n",
    "        protocol = packet[IP].proto\n",
    "        payload = packet[Raw].load if packet.haslayer(Raw) else None\n",
    "\n",
    "        print(f\"[*] Source IP: {ip_src} --> Destination IP: {ip_dst} | Protocol: {protocol}\")\n",
    "        if payload:\n",
    "            print(\"[+] Payload:\")\n",
    "            print(payload)\n",
    "\n",
    "# Function to start packet sniffing\n",
    "def sniff_packets(interface):\n",
    "    print(\"[*] Starting packet sniffing...\")\n",
    "    sniff(iface=interface, prn=process_packet, store=False)\n",
    "\n",
    "# Main function\n",
    "def main():\n",
    "    interface = input(\"Enter the interface to sniff (e.g., eth0): \")\n",
    "    sniff_packets(interface)\n",
    "\n",
    "if __name__ == \"__main__\":\n",
    "    main()\n"
   ]
  }
 ],
 "metadata": {
  "kernelspec": {
   "display_name": "Python 3 (ipykernel)",
   "language": "python",
   "name": "python3"
  },
  "language_info": {
   "codemirror_mode": {
    "name": "ipython",
    "version": 3
   },
   "file_extension": ".py",
   "mimetype": "text/x-python",
   "name": "python",
   "nbconvert_exporter": "python",
   "pygments_lexer": "ipython3",
   "version": "3.11.5"
  }
 },
 "nbformat": 4,
 "nbformat_minor": 5
}
